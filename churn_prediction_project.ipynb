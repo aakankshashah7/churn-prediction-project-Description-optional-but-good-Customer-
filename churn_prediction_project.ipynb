{
 "cells": [
  {
   "cell_type": "markdown",
   "id": "7dcf6d95",
   "metadata": {},
   "source": [
    "# Customer Churn Prediction - E-commerce Project\n",
    "\n",
    "This project aims to predict customer churn using behavioral and transactional data."
   ]
  },
  {
   "cell_type": "code",
   "execution_count": null,
   "id": "f163c2ba",
   "metadata": {},
   "outputs": [],
   "source": [
    "# Importing Libraries\n",
    "import pandas as pd\n",
    "import numpy as np\n",
    "import matplotlib.pyplot as plt\n",
    "import seaborn as sns\n",
    "\n",
    "from sklearn.model_selection import train_test_split\n",
    "from sklearn.ensemble import RandomForestClassifier\n",
    "from sklearn.metrics import classification_report, confusion_matrix\n"
   ]
  },
  {
   "cell_type": "code",
   "execution_count": null,
   "id": "f8b0bc82",
   "metadata": {},
   "outputs": [],
   "source": [
    "# Load Dataset\n",
    "df = pd.read_csv(\"ecommerce_churn_data.csv\")\n",
    "df.head()"
   ]
  },
  {
   "cell_type": "code",
   "execution_count": null,
   "id": "f3a58849",
   "metadata": {},
   "outputs": [],
   "source": [
    "# Drop customer_id as it's not useful for prediction\n",
    "df = df.drop(columns=['customer_id'])\n",
    "\n",
    "# Check for nulls\n",
    "print(df.isnull().sum())\n",
    "\n",
    "# Fill any missing values if necessary (example)\n",
    "df['cart_abandon_rate'].fillna(df['cart_abandon_rate'].mean(), inplace=True)"
   ]
  },
  {
   "cell_type": "code",
   "execution_count": null,
   "id": "fb08ced4",
   "metadata": {},
   "outputs": [],
   "source": [
    "# Define features and target\n",
    "X = df.drop('is_churned', axis=1)\n",
    "y = df['is_churned']\n",
    "\n",
    "# Train-test split\n",
    "X_train, X_test, y_train, y_test = train_test_split(X, y, test_size=0.2, random_state=42)\n"
   ]
  },
  {
   "cell_type": "code",
   "execution_count": null,
   "id": "9bd017f6",
   "metadata": {},
   "outputs": [],
   "source": [
    "# Train the model\n",
    "model = RandomForestClassifier(n_estimators=100, random_state=42)\n",
    "model.fit(X_train, y_train)\n",
    "\n",
    "# Predict\n",
    "y_pred = model.predict(X_test)\n"
   ]
  },
  {
   "cell_type": "code",
   "execution_count": null,
   "id": "5afa5b6b",
   "metadata": {},
   "outputs": [],
   "source": [
    "# Evaluation\n",
    "print(confusion_matrix(y_test, y_pred))\n",
    "print(classification_report(y_test, y_pred))"
   ]
  },
  {
   "cell_type": "code",
   "execution_count": null,
   "id": "77090b41",
   "metadata": {},
   "outputs": [],
   "source": [
    "# Feature Importance\n",
    "feat_importance = pd.Series(model.feature_importances_, index=X.columns)\n",
    "feat_importance.sort_values().plot(kind='barh', figsize=(10,6))\n",
    "plt.title(\"Feature Importance in Churn Prediction\")\n",
    "plt.show()"
   ]
  },
  {
   "cell_type": "markdown",
   "id": "32948bcb",
   "metadata": {},
   "source": [
    "## Key Insights\n",
    "- Customers with more complaints and high cart abandonment are more likely to churn.\n",
    "- Recency and frequency of purchases are strong predictors.\n",
    "- Recommended retention campaigns for high-risk segments based on model output."
   ]
  }
 ],
 "metadata": {},
 "nbformat": 4,
 "nbformat_minor": 5
}
